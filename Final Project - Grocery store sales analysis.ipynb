{
 "cells": [
  {
   "cell_type": "markdown",
   "id": "5370f21d",
   "metadata": {
    "ExecuteTime": {
     "end_time": "2022-12-18T08:04:15.713512Z",
     "start_time": "2022-12-18T08:04:15.663451Z"
    }
   },
   "source": [
    "# Вітаю на фінальному проєкті!\n",
    "Протягом курсу ми навчились завантажувати дані в Python, трансформувати їх, чистити, агрегувати, знаходити з допомогою даних відповіді на наші питання. \n",
    "Задача фінального проєкту - продемонструвати той рівень роботи з даними, на якому ви є зараз. \n",
    "\n",
    "Цей ноутбук буде присвячений аналізу даних з файла `Grocery DataBase.xlsx`, який є в папці `Дані` на Диску. Так, це Excel файл, але ми можемо дуже просто завантажувати дані з нього у Python. Покажу пару команд для роботи з Excel файлом."
   ]
  },
  {
   "cell_type": "markdown",
   "id": "ab4e745e",
   "metadata": {},
   "source": [
    "Для початку встановимо бібліотеку, яка потрібна для роботи з Excel файлами з pandas. Можна встановити тут, або в терміналі, але якщо Ви встановлюєте в терміналі, то після того треба перезапустити ядро (Kernel) ноутбуку, аби бібліотека точно підтягнулась. Іноді підтягується і без того, але це на випадок, що робити, якщо компілятор каже, що її не бачить."
   ]
  },
  {
   "cell_type": "code",
   "execution_count": 1,
   "id": "8260300e",
   "metadata": {
    "ExecuteTime": {
     "end_time": "2023-09-30T10:02:45.207061Z",
     "start_time": "2023-09-30T10:02:43.118319Z"
    }
   },
   "outputs": [
    {
     "name": "stdout",
     "output_type": "stream",
     "text": [
      "Requirement already satisfied: openpyxl in /Users/irinagalchenko/anaconda3/lib/python3.10/site-packages (3.0.10)\r\n",
      "Requirement already satisfied: et_xmlfile in /Users/irinagalchenko/anaconda3/lib/python3.10/site-packages (from openpyxl) (1.1.0)\r\n"
     ]
    }
   ],
   "source": [
    "!pip install openpyxl"
   ]
  },
  {
   "cell_type": "code",
   "execution_count": 2,
   "id": "9f8741e0",
   "metadata": {
    "ExecuteTime": {
     "end_time": "2023-09-30T10:02:45.523872Z",
     "start_time": "2023-09-30T10:02:45.217925Z"
    }
   },
   "outputs": [],
   "source": [
    "import pandas as pd"
   ]
  },
  {
   "cell_type": "markdown",
   "id": "ee6256e0",
   "metadata": {},
   "source": [
    "Ось так можемо переглянути, які є листки в Excel файлі:"
   ]
  },
  {
   "cell_type": "code",
   "execution_count": 3,
   "id": "2b13dd59",
   "metadata": {
    "ExecuteTime": {
     "end_time": "2023-09-30T10:02:47.626992Z",
     "start_time": "2023-09-30T10:02:47.621552Z"
    }
   },
   "outputs": [],
   "source": [
    "# замініть на шлях до файлу на своєму комп`ютері\n",
    "path_to_file = '/Users/irinagalchenko/Downloads/grocery_database.xlsx'"
   ]
  },
  {
   "cell_type": "code",
   "execution_count": 4,
   "id": "54c01751",
   "metadata": {
    "ExecuteTime": {
     "end_time": "2023-09-30T10:02:54.241732Z",
     "start_time": "2023-09-30T10:02:48.521415Z"
    },
    "scrolled": true
   },
   "outputs": [
    {
     "data": {
      "text/plain": [
       "['Grosto DB', 'Sheet2', 'Fact Summary']"
      ]
     },
     "execution_count": 4,
     "metadata": {},
     "output_type": "execute_result"
    }
   ],
   "source": [
    "xl = pd.ExcelFile(path_to_file)\n",
    "xl.sheet_names"
   ]
  },
  {
   "cell_type": "markdown",
   "id": "1ea6884d",
   "metadata": {},
   "source": [
    "А так можемо зчитати конкретний листок:"
   ]
  },
  {
   "cell_type": "code",
   "execution_count": 5,
   "id": "1341eb0b",
   "metadata": {
    "ExecuteTime": {
     "end_time": "2023-09-30T10:02:55.849465Z",
     "start_time": "2023-09-30T10:02:55.813714Z"
    }
   },
   "outputs": [
    {
     "data": {
      "text/html": [
       "<div>\n",
       "<style scoped>\n",
       "    .dataframe tbody tr th:only-of-type {\n",
       "        vertical-align: middle;\n",
       "    }\n",
       "\n",
       "    .dataframe tbody tr th {\n",
       "        vertical-align: top;\n",
       "    }\n",
       "\n",
       "    .dataframe thead th {\n",
       "        text-align: right;\n",
       "    }\n",
       "</style>\n",
       "<table border=\"1\" class=\"dataframe\">\n",
       "  <thead>\n",
       "    <tr style=\"text-align: right;\">\n",
       "      <th></th>\n",
       "      <th>S.No.</th>\n",
       "      <th>Column Name</th>\n",
       "      <th>Description of the Column names</th>\n",
       "    </tr>\n",
       "  </thead>\n",
       "  <tbody>\n",
       "    <tr>\n",
       "      <th>0</th>\n",
       "      <td>1</td>\n",
       "      <td>Receipt Number</td>\n",
       "      <td>Transaction Number</td>\n",
       "    </tr>\n",
       "    <tr>\n",
       "      <th>1</th>\n",
       "      <td>2</td>\n",
       "      <td>Date</td>\n",
       "      <td>Date of Transaction</td>\n",
       "    </tr>\n",
       "    <tr>\n",
       "      <th>2</th>\n",
       "      <td>3</td>\n",
       "      <td>Year</td>\n",
       "      <td>Year of Transaction</td>\n",
       "    </tr>\n",
       "    <tr>\n",
       "      <th>3</th>\n",
       "      <td>4</td>\n",
       "      <td>Month</td>\n",
       "      <td>Month of Transaction</td>\n",
       "    </tr>\n",
       "    <tr>\n",
       "      <th>4</th>\n",
       "      <td>5</td>\n",
       "      <td>Time</td>\n",
       "      <td>Time of the transaction</td>\n",
       "    </tr>\n",
       "    <tr>\n",
       "      <th>5</th>\n",
       "      <td>6</td>\n",
       "      <td>Mobile Number</td>\n",
       "      <td>Monbile number of the customer</td>\n",
       "    </tr>\n",
       "    <tr>\n",
       "      <th>6</th>\n",
       "      <td>7</td>\n",
       "      <td>Membership ID</td>\n",
       "      <td>Unique Membership ID of the Customer</td>\n",
       "    </tr>\n",
       "    <tr>\n",
       "      <th>7</th>\n",
       "      <td>8</td>\n",
       "      <td>Loyalty Card Points</td>\n",
       "      <td>Loyalty Points earned by customer (10 Points/1...</td>\n",
       "    </tr>\n",
       "    <tr>\n",
       "      <th>8</th>\n",
       "      <td>9</td>\n",
       "      <td>Age</td>\n",
       "      <td>Age of the Customer in the Company Database</td>\n",
       "    </tr>\n",
       "    <tr>\n",
       "      <th>9</th>\n",
       "      <td>10</td>\n",
       "      <td>Gender</td>\n",
       "      <td>Gender of the customer</td>\n",
       "    </tr>\n",
       "    <tr>\n",
       "      <th>10</th>\n",
       "      <td>11</td>\n",
       "      <td>City</td>\n",
       "      <td>City Name of store</td>\n",
       "    </tr>\n",
       "    <tr>\n",
       "      <th>11</th>\n",
       "      <td>12</td>\n",
       "      <td>Country</td>\n",
       "      <td>Country Name of store</td>\n",
       "    </tr>\n",
       "    <tr>\n",
       "      <th>12</th>\n",
       "      <td>13</td>\n",
       "      <td>Category</td>\n",
       "      <td>Category of Item bought by customer</td>\n",
       "    </tr>\n",
       "    <tr>\n",
       "      <th>13</th>\n",
       "      <td>14</td>\n",
       "      <td>Sub_Category</td>\n",
       "      <td>Sub-Category of Item bought by customer</td>\n",
       "    </tr>\n",
       "    <tr>\n",
       "      <th>14</th>\n",
       "      <td>15</td>\n",
       "      <td>Items</td>\n",
       "      <td>Name if the item  bought by customer</td>\n",
       "    </tr>\n",
       "    <tr>\n",
       "      <th>15</th>\n",
       "      <td>16</td>\n",
       "      <td>Brand</td>\n",
       "      <td>Brand of the Item bought</td>\n",
       "    </tr>\n",
       "    <tr>\n",
       "      <th>16</th>\n",
       "      <td>17</td>\n",
       "      <td>Description</td>\n",
       "      <td>Description of the Item (weight/volume/pack si...</td>\n",
       "    </tr>\n",
       "    <tr>\n",
       "      <th>17</th>\n",
       "      <td>18</td>\n",
       "      <td>Price</td>\n",
       "      <td>Price per unit of the Item</td>\n",
       "    </tr>\n",
       "    <tr>\n",
       "      <th>18</th>\n",
       "      <td>19</td>\n",
       "      <td>QTY</td>\n",
       "      <td>Quantity bought by the cistomer</td>\n",
       "    </tr>\n",
       "    <tr>\n",
       "      <th>19</th>\n",
       "      <td>20</td>\n",
       "      <td>DISC</td>\n",
       "      <td>Discount offered by store</td>\n",
       "    </tr>\n",
       "    <tr>\n",
       "      <th>20</th>\n",
       "      <td>21</td>\n",
       "      <td>Net Bill Amount</td>\n",
       "      <td>Amount exclusive of tax payable to customer</td>\n",
       "    </tr>\n",
       "    <tr>\n",
       "      <th>21</th>\n",
       "      <td>22</td>\n",
       "      <td>GST</td>\n",
       "      <td>Tax Payable</td>\n",
       "    </tr>\n",
       "    <tr>\n",
       "      <th>22</th>\n",
       "      <td>23</td>\n",
       "      <td>Gross Bill Amount</td>\n",
       "      <td>Gross Bill to be paid by customer inclusive of...</td>\n",
       "    </tr>\n",
       "    <tr>\n",
       "      <th>23</th>\n",
       "      <td>24</td>\n",
       "      <td>Payment Mode</td>\n",
       "      <td>Mode of payment opted by customer</td>\n",
       "    </tr>\n",
       "    <tr>\n",
       "      <th>24</th>\n",
       "      <td>25</td>\n",
       "      <td>Bank Name</td>\n",
       "      <td>Name of the Bank</td>\n",
       "    </tr>\n",
       "    <tr>\n",
       "      <th>25</th>\n",
       "      <td>26</td>\n",
       "      <td>% Profit Margin</td>\n",
       "      <td>Percentage profit margin of store</td>\n",
       "    </tr>\n",
       "    <tr>\n",
       "      <th>26</th>\n",
       "      <td>27</td>\n",
       "      <td>% Operating Cost</td>\n",
       "      <td>Percentage operating cost of store</td>\n",
       "    </tr>\n",
       "    <tr>\n",
       "      <th>27</th>\n",
       "      <td>28</td>\n",
       "      <td>% Product Cost</td>\n",
       "      <td>Percentage product cost to store</td>\n",
       "    </tr>\n",
       "    <tr>\n",
       "      <th>28</th>\n",
       "      <td>29</td>\n",
       "      <td>Profit Margin</td>\n",
       "      <td>Profit Margin earned by store</td>\n",
       "    </tr>\n",
       "    <tr>\n",
       "      <th>29</th>\n",
       "      <td>30</td>\n",
       "      <td>Operating Cost</td>\n",
       "      <td>Operating cost beared by the store</td>\n",
       "    </tr>\n",
       "    <tr>\n",
       "      <th>30</th>\n",
       "      <td>31</td>\n",
       "      <td>Product Cost</td>\n",
       "      <td>Product Cost for the store</td>\n",
       "    </tr>\n",
       "  </tbody>\n",
       "</table>\n",
       "</div>"
      ],
      "text/plain": [
       "    S.No.          Column Name  \\\n",
       "0       1       Receipt Number   \n",
       "1       2                 Date   \n",
       "2       3                 Year   \n",
       "3       4                Month   \n",
       "4       5                 Time   \n",
       "5       6        Mobile Number   \n",
       "6       7        Membership ID   \n",
       "7       8  Loyalty Card Points   \n",
       "8       9                  Age   \n",
       "9      10               Gender   \n",
       "10     11                 City   \n",
       "11     12              Country   \n",
       "12     13             Category   \n",
       "13     14         Sub_Category   \n",
       "14     15                Items   \n",
       "15     16               Brand    \n",
       "16     17         Description    \n",
       "17     18                Price   \n",
       "18     19                  QTY   \n",
       "19     20                 DISC   \n",
       "20     21      Net Bill Amount   \n",
       "21     22                  GST   \n",
       "22     23    Gross Bill Amount   \n",
       "23     24         Payment Mode   \n",
       "24     25            Bank Name   \n",
       "25     26      % Profit Margin   \n",
       "26     27     % Operating Cost   \n",
       "27     28       % Product Cost   \n",
       "28     29        Profit Margin   \n",
       "29     30       Operating Cost   \n",
       "30     31         Product Cost   \n",
       "\n",
       "                      Description of the Column names  \n",
       "0                                  Transaction Number  \n",
       "1                                 Date of Transaction  \n",
       "2                                 Year of Transaction  \n",
       "3                                Month of Transaction  \n",
       "4                             Time of the transaction  \n",
       "5                      Monbile number of the customer  \n",
       "6                Unique Membership ID of the Customer  \n",
       "7   Loyalty Points earned by customer (10 Points/1...  \n",
       "8         Age of the Customer in the Company Database  \n",
       "9                              Gender of the customer  \n",
       "10                                 City Name of store  \n",
       "11                              Country Name of store  \n",
       "12                Category of Item bought by customer  \n",
       "13            Sub-Category of Item bought by customer  \n",
       "14               Name if the item  bought by customer  \n",
       "15                           Brand of the Item bought  \n",
       "16  Description of the Item (weight/volume/pack si...  \n",
       "17                         Price per unit of the Item  \n",
       "18                    Quantity bought by the cistomer  \n",
       "19                          Discount offered by store  \n",
       "20        Amount exclusive of tax payable to customer  \n",
       "21                                        Tax Payable  \n",
       "22  Gross Bill to be paid by customer inclusive of...  \n",
       "23                  Mode of payment opted by customer  \n",
       "24                                   Name of the Bank  \n",
       "25                  Percentage profit margin of store  \n",
       "26                 Percentage operating cost of store  \n",
       "27                   Percentage product cost to store  \n",
       "28                      Profit Margin earned by store  \n",
       "29                 Operating cost beared by the store  \n",
       "30                         Product Cost for the store  "
      ]
     },
     "execution_count": 5,
     "metadata": {},
     "output_type": "execute_result"
    }
   ],
   "source": [
    "xl.parse('Fact Summary')"
   ]
  },
  {
   "cell_type": "markdown",
   "id": "44fe8a1e",
   "metadata": {},
   "source": [
    "Читати дані можна і з Pandas, але тут немає можливості переглянути наявні листки, а також довше відбувається читання даних."
   ]
  },
  {
   "cell_type": "code",
   "execution_count": 8,
   "id": "2fb8f4ad",
   "metadata": {
    "ExecuteTime": {
     "end_time": "2023-09-30T10:03:50.380303Z",
     "start_time": "2023-09-30T10:03:34.977136Z"
    }
   },
   "outputs": [],
   "source": [
    "df_grocery = pd.read_excel('/Users/irinagalchenko/Downloads/grocery_database.xlsx')"
   ]
  },
  {
   "cell_type": "markdown",
   "id": "93fbe209",
   "metadata": {},
   "source": [
    "В файлі ви знайдете самі дані та опис колонок.   \n",
    "\n",
    "**Задача**: Уявіть, що Вам дали цей набір даних з питанням \"Що корисного ми можемо з них взяти для розвитку нашого бізнесу?\". То Вам необхідно розказати бізнесу історію про ці дані у форматі\n",
    "1. питання, яке Вас як робітника цього бізнесу, який дуже вболіває за його успіх, цікавить щодо цих даних\n",
    "2. код для відповіді на це питання\n",
    "3. висновки, які я можу зробити з огляду на результат виконання коду: які рішення ми можемо прийняти щодо подальших кроків в аналізі або які рекомендації Ви б дали бізнесу виходячи з результатів.\n",
    "\n",
    "**Необхідно** поставити до даних _мінімум_ 10 бізнес-питань, при цьому зробивши   \n",
    "- початковий аналіз даних: їх розмір, структура, наявність пропущених значень та що з ними зробити, зміна типів даних там, де це доречно зробити (наприклад, якщо колонка завантажилась як тип string, а з опису видно, що там має бути float) - ця частина не входить у бізнес-питання, але є необхідною при аналізі даних.  \n",
    "- _мінімум_ 1 зведену таблицю або її аналог\n",
    "- _мінімум_ 5 візуалізацій, 3 з яких мають різний тип (наприклад, scatter plot, line plot, pair plot)\n",
    "\n",
    "В даному мінімум-наборі немає вимоги на використання SQL та тестування статистичних гіпотез. Але якщо Вам хочеться потренуватись, то Ви можете це зробити скориставшись pandasql, а також перевірити, чи є відмінність між двома групами у якомусь показнику з допомогою тестування статистичних гіпотез. Останнє найбільш доречно, якщо, наприклад, ми беремо чоловіків і жінок, бачимо що у них доволі схожі середні чеки, але наче відрізняються. Аби зрозуміти, чи різниця статистично значущою, можна це перевірити з допомогою тестування стат. гіпотез.\n",
    "\n",
    "Питанням може бути як \"Яка є кількість унікальних чеків в цьому наборі даних?\" так і щось значно складніше. Якщо у Вас складне питання, і аби відповісти на нього Ви мали відповісти на 3 менших питання (зробити якісь трансформації над даними, подивитись щось), то це рахується як 3 питання з 10 необхідних у завданні. Звісно ж Ви можете зробити більше за встановлений мінімум - все буде перевірено :)\n",
    "\n",
    "Тут є великий простір для Вашої фантазії. **Тому рекомендація:** виділіть на це завданні певну кількість годин (наприклад, середнє значення по тому, скільки у Вас займало виконання домашніх завдань в курсі, але я рекомендую не менше 2х годин роботи)\n",
    "і поставте собі за ціль всю роботу вмістити в цю кількість годин.\n",
    "Це дозволить Вам управляти своїм часом, пріоритизувати питання, які ставите до даних. І так часто є в роботі: коли ми не знаємо, що ми шукаємо, ми ставимо обмеження по часу (задача типу spike) і робимо все, що встигнемо, за цей час.\n",
    "\n",
    "По закінченню - завантажуємо ноутбук на git і додаємо посилання в здачу роботи в Eduflow. \n",
    "До речі, з часом, вам може захотітись доповнити цей ноутбук, коли арсенал ваших навичок по роботі з даними розшириться. І це буде чудова ідея!\n",
    "\n",
    "**Успіхів!**"
   ]
  },
  {
   "cell_type": "markdown",
   "id": "1aae5894",
   "metadata": {},
   "source": [
    "1. Виводжу перші 3 записи в наборі, типи даних та розмір"
   ]
  },
  {
   "cell_type": "code",
   "execution_count": 10,
   "id": "2dced150",
   "metadata": {
    "ExecuteTime": {
     "end_time": "2023-09-30T10:03:55.464690Z",
     "start_time": "2023-09-30T10:03:55.432887Z"
    }
   },
   "outputs": [
    {
     "data": {
      "text/html": [
       "<div>\n",
       "<style scoped>\n",
       "    .dataframe tbody tr th:only-of-type {\n",
       "        vertical-align: middle;\n",
       "    }\n",
       "\n",
       "    .dataframe tbody tr th {\n",
       "        vertical-align: top;\n",
       "    }\n",
       "\n",
       "    .dataframe thead th {\n",
       "        text-align: right;\n",
       "    }\n",
       "</style>\n",
       "<table border=\"1\" class=\"dataframe\">\n",
       "  <thead>\n",
       "    <tr style=\"text-align: right;\">\n",
       "      <th></th>\n",
       "      <th>Receipt Number</th>\n",
       "      <th>Date</th>\n",
       "      <th>Year</th>\n",
       "      <th>Month</th>\n",
       "      <th>Time</th>\n",
       "      <th>Mobile Number</th>\n",
       "      <th>Membership ID</th>\n",
       "      <th>Loyalty Card Points</th>\n",
       "      <th>Age</th>\n",
       "      <th>Gender</th>\n",
       "      <th>...</th>\n",
       "      <th>GST</th>\n",
       "      <th>Gross Bill Amount</th>\n",
       "      <th>Payment Mode</th>\n",
       "      <th>Bank Name</th>\n",
       "      <th>% Profit Margin</th>\n",
       "      <th>% Operating Cost</th>\n",
       "      <th>% Product Cost</th>\n",
       "      <th>Profit Margin</th>\n",
       "      <th>Operating Cost</th>\n",
       "      <th>Product Cost</th>\n",
       "    </tr>\n",
       "  </thead>\n",
       "  <tbody>\n",
       "    <tr>\n",
       "      <th>0</th>\n",
       "      <td>GIJ00001</td>\n",
       "      <td>2016-01-02</td>\n",
       "      <td>2016</td>\n",
       "      <td>1</td>\n",
       "      <td>10:08:03.260000</td>\n",
       "      <td>9793548581</td>\n",
       "      <td>MIDID0001</td>\n",
       "      <td>1</td>\n",
       "      <td>36</td>\n",
       "      <td>Male</td>\n",
       "      <td>...</td>\n",
       "      <td>0.1</td>\n",
       "      <td>13.32408</td>\n",
       "      <td>Card</td>\n",
       "      <td>Enterprise Bank</td>\n",
       "      <td>0.150</td>\n",
       "      <td>0.15</td>\n",
       "      <td>0.700</td>\n",
       "      <td>1.85400</td>\n",
       "      <td>1.8540</td>\n",
       "      <td>8.65200</td>\n",
       "    </tr>\n",
       "    <tr>\n",
       "      <th>1</th>\n",
       "      <td>GIJ00002</td>\n",
       "      <td>2016-01-02</td>\n",
       "      <td>2016</td>\n",
       "      <td>1</td>\n",
       "      <td>15:46:50.832000</td>\n",
       "      <td>9938441276</td>\n",
       "      <td>MIDID0002</td>\n",
       "      <td>2</td>\n",
       "      <td>54</td>\n",
       "      <td>Male</td>\n",
       "      <td>...</td>\n",
       "      <td>0.1</td>\n",
       "      <td>25.26480</td>\n",
       "      <td>Card</td>\n",
       "      <td>Philippine Veterans Bank</td>\n",
       "      <td>0.118</td>\n",
       "      <td>0.15</td>\n",
       "      <td>0.732</td>\n",
       "      <td>2.73760</td>\n",
       "      <td>3.4800</td>\n",
       "      <td>16.98240</td>\n",
       "    </tr>\n",
       "    <tr>\n",
       "      <th>2</th>\n",
       "      <td>GIJ00003</td>\n",
       "      <td>2016-01-02</td>\n",
       "      <td>2016</td>\n",
       "      <td>1</td>\n",
       "      <td>11:28:52.166000</td>\n",
       "      <td>9976742552</td>\n",
       "      <td>MIDID0003</td>\n",
       "      <td>1</td>\n",
       "      <td>16</td>\n",
       "      <td>Female</td>\n",
       "      <td>...</td>\n",
       "      <td>0.1</td>\n",
       "      <td>42.18786</td>\n",
       "      <td>Cash</td>\n",
       "      <td>BDO Unibank</td>\n",
       "      <td>0.147</td>\n",
       "      <td>0.15</td>\n",
       "      <td>0.703</td>\n",
       "      <td>1.95657</td>\n",
       "      <td>1.9965</td>\n",
       "      <td>9.35693</td>\n",
       "    </tr>\n",
       "  </tbody>\n",
       "</table>\n",
       "<p>3 rows × 32 columns</p>\n",
       "</div>"
      ],
      "text/plain": [
       "  Receipt Number       Date  Year  Month             Time  Mobile Number  \\\n",
       "0       GIJ00001 2016-01-02  2016      1  10:08:03.260000     9793548581   \n",
       "1       GIJ00002 2016-01-02  2016      1  15:46:50.832000     9938441276   \n",
       "2       GIJ00003 2016-01-02  2016      1  11:28:52.166000     9976742552   \n",
       "\n",
       "  Membership ID  Loyalty Card Points  Age  Gender  ...  GST Gross Bill Amount  \\\n",
       "0     MIDID0001                    1   36    Male  ...  0.1          13.32408   \n",
       "1     MIDID0002                    2   54    Male  ...  0.1          25.26480   \n",
       "2     MIDID0003                    1   16  Female  ...  0.1          42.18786   \n",
       "\n",
       "  Payment Mode                 Bank Name % Profit Margin % Operating Cost  \\\n",
       "0         Card           Enterprise Bank           0.150             0.15   \n",
       "1         Card  Philippine Veterans Bank           0.118             0.15   \n",
       "2         Cash               BDO Unibank           0.147             0.15   \n",
       "\n",
       "  % Product Cost  Profit Margin  Operating Cost  Product Cost  \n",
       "0          0.700        1.85400          1.8540       8.65200  \n",
       "1          0.732        2.73760          3.4800      16.98240  \n",
       "2          0.703        1.95657          1.9965       9.35693  \n",
       "\n",
       "[3 rows x 32 columns]"
      ]
     },
     "metadata": {},
     "output_type": "display_data"
    },
    {
     "data": {
      "text/plain": [
       "Receipt Number                 object\n",
       "Date                   datetime64[ns]\n",
       "Year                            int64\n",
       "Month                           int64\n",
       "Time                           object\n",
       "Mobile Number                   int64\n",
       "Membership ID                  object\n",
       "Loyalty Card Points             int64\n",
       "Age                             int64\n",
       "Gender                         object\n",
       "City                           object\n",
       "Country                        object\n",
       "Category                       object\n",
       "Sub_Category                   object\n",
       "Items                          object\n",
       "Brand                          object\n",
       "Description                    object\n",
       "Price                         float64\n",
       "QTY                             int64\n",
       "DISC                          float64\n",
       "Amount                        float64\n",
       "Net Bill Amount               float64\n",
       "GST                           float64\n",
       "Gross Bill Amount             float64\n",
       "Payment Mode                   object\n",
       "Bank Name                      object\n",
       "% Profit Margin               float64\n",
       "% Operating Cost              float64\n",
       "% Product Cost                float64\n",
       "Profit Margin                 float64\n",
       "Operating Cost                float64\n",
       "Product Cost                  float64\n",
       "dtype: object"
      ]
     },
     "metadata": {},
     "output_type": "display_data"
    },
    {
     "data": {
      "text/plain": [
       "(50447, 32)"
      ]
     },
     "metadata": {},
     "output_type": "display_data"
    }
   ],
   "source": [
    "display(df_grocery.head(3), df_grocery.dtypes, df_grocery.shape)"
   ]
  },
  {
   "cell_type": "code",
   "execution_count": 12,
   "id": "4ac217f5",
   "metadata": {
    "ExecuteTime": {
     "end_time": "2023-09-30T10:04:20.995909Z",
     "start_time": "2023-09-30T10:04:20.915516Z"
    }
   },
   "outputs": [
    {
     "data": {
      "text/html": [
       "<div>\n",
       "<style scoped>\n",
       "    .dataframe tbody tr th:only-of-type {\n",
       "        vertical-align: middle;\n",
       "    }\n",
       "\n",
       "    .dataframe tbody tr th {\n",
       "        vertical-align: top;\n",
       "    }\n",
       "\n",
       "    .dataframe thead th {\n",
       "        text-align: right;\n",
       "    }\n",
       "</style>\n",
       "<table border=\"1\" class=\"dataframe\">\n",
       "  <thead>\n",
       "    <tr style=\"text-align: right;\">\n",
       "      <th></th>\n",
       "      <th>Year</th>\n",
       "      <th>Month</th>\n",
       "      <th>Mobile Number</th>\n",
       "      <th>Loyalty Card Points</th>\n",
       "      <th>Age</th>\n",
       "      <th>Price</th>\n",
       "      <th>QTY</th>\n",
       "      <th>DISC</th>\n",
       "      <th>Amount</th>\n",
       "      <th>Net Bill Amount</th>\n",
       "      <th>GST</th>\n",
       "      <th>Gross Bill Amount</th>\n",
       "      <th>% Profit Margin</th>\n",
       "      <th>% Operating Cost</th>\n",
       "      <th>% Product Cost</th>\n",
       "      <th>Profit Margin</th>\n",
       "      <th>Operating Cost</th>\n",
       "      <th>Product Cost</th>\n",
       "    </tr>\n",
       "  </thead>\n",
       "  <tbody>\n",
       "    <tr>\n",
       "      <th>count</th>\n",
       "      <td>50447.000000</td>\n",
       "      <td>50447.000000</td>\n",
       "      <td>5.044700e+04</td>\n",
       "      <td>50447.000000</td>\n",
       "      <td>50447.000000</td>\n",
       "      <td>50447.000000</td>\n",
       "      <td>50447.000000</td>\n",
       "      <td>50447.000000</td>\n",
       "      <td>50447.000000</td>\n",
       "      <td>50447.000000</td>\n",
       "      <td>50447.000000</td>\n",
       "      <td>50447.000000</td>\n",
       "      <td>50447.000000</td>\n",
       "      <td>5.044700e+04</td>\n",
       "      <td>50447.000000</td>\n",
       "      <td>50447.000000</td>\n",
       "      <td>50447.000000</td>\n",
       "      <td>50447.000000</td>\n",
       "    </tr>\n",
       "    <tr>\n",
       "      <th>mean</th>\n",
       "      <td>2017.667968</td>\n",
       "      <td>6.476678</td>\n",
       "      <td>9.893557e+09</td>\n",
       "      <td>18.364263</td>\n",
       "      <td>35.801772</td>\n",
       "      <td>7.424184</td>\n",
       "      <td>1.548179</td>\n",
       "      <td>0.029938</td>\n",
       "      <td>11.167962</td>\n",
       "      <td>66.695212</td>\n",
       "      <td>0.085553</td>\n",
       "      <td>72.378916</td>\n",
       "      <td>0.105550</td>\n",
       "      <td>1.500000e-01</td>\n",
       "      <td>0.744450</td>\n",
       "      <td>1.201682</td>\n",
       "      <td>1.726851</td>\n",
       "      <td>8.583809</td>\n",
       "    </tr>\n",
       "    <tr>\n",
       "      <th>std</th>\n",
       "      <td>1.111588</td>\n",
       "      <td>3.454349</td>\n",
       "      <td>7.636461e+07</td>\n",
       "      <td>16.161139</td>\n",
       "      <td>14.020367</td>\n",
       "      <td>4.753588</td>\n",
       "      <td>0.648461</td>\n",
       "      <td>0.014230</td>\n",
       "      <td>9.227162</td>\n",
       "      <td>45.269851</td>\n",
       "      <td>0.023568</td>\n",
       "      <td>49.093636</td>\n",
       "      <td>0.029403</td>\n",
       "      <td>1.321178e-13</td>\n",
       "      <td>0.029403</td>\n",
       "      <td>1.063545</td>\n",
       "      <td>1.426844</td>\n",
       "      <td>7.134957</td>\n",
       "    </tr>\n",
       "    <tr>\n",
       "      <th>min</th>\n",
       "      <td>2016.000000</td>\n",
       "      <td>1.000000</td>\n",
       "      <td>7.919903e+09</td>\n",
       "      <td>0.000000</td>\n",
       "      <td>15.000000</td>\n",
       "      <td>0.840000</td>\n",
       "      <td>1.000000</td>\n",
       "      <td>0.010000</td>\n",
       "      <td>0.798000</td>\n",
       "      <td>0.978500</td>\n",
       "      <td>0.060000</td>\n",
       "      <td>1.037210</td>\n",
       "      <td>0.051000</td>\n",
       "      <td>1.500000e-01</td>\n",
       "      <td>0.700000</td>\n",
       "      <td>0.067840</td>\n",
       "      <td>0.126000</td>\n",
       "      <td>0.609840</td>\n",
       "    </tr>\n",
       "    <tr>\n",
       "      <th>25%</th>\n",
       "      <td>2017.000000</td>\n",
       "      <td>3.000000</td>\n",
       "      <td>9.839283e+09</td>\n",
       "      <td>6.000000</td>\n",
       "      <td>23.000000</td>\n",
       "      <td>4.280000</td>\n",
       "      <td>1.000000</td>\n",
       "      <td>0.020000</td>\n",
       "      <td>5.213600</td>\n",
       "      <td>35.328000</td>\n",
       "      <td>0.070000</td>\n",
       "      <td>38.615940</td>\n",
       "      <td>0.083000</td>\n",
       "      <td>1.500000e-01</td>\n",
       "      <td>0.722000</td>\n",
       "      <td>0.545600</td>\n",
       "      <td>0.805500</td>\n",
       "      <td>4.082890</td>\n",
       "    </tr>\n",
       "    <tr>\n",
       "      <th>50%</th>\n",
       "      <td>2018.000000</td>\n",
       "      <td>7.000000</td>\n",
       "      <td>9.897050e+09</td>\n",
       "      <td>14.000000</td>\n",
       "      <td>35.000000</td>\n",
       "      <td>5.980000</td>\n",
       "      <td>2.000000</td>\n",
       "      <td>0.030000</td>\n",
       "      <td>8.632800</td>\n",
       "      <td>58.586500</td>\n",
       "      <td>0.070000</td>\n",
       "      <td>63.909120</td>\n",
       "      <td>0.109000</td>\n",
       "      <td>1.500000e-01</td>\n",
       "      <td>0.741000</td>\n",
       "      <td>0.928200</td>\n",
       "      <td>1.329000</td>\n",
       "      <td>6.648660</td>\n",
       "    </tr>\n",
       "    <tr>\n",
       "      <th>75%</th>\n",
       "      <td>2019.000000</td>\n",
       "      <td>10.000000</td>\n",
       "      <td>9.950153e+09</td>\n",
       "      <td>26.000000</td>\n",
       "      <td>47.000000</td>\n",
       "      <td>9.470000</td>\n",
       "      <td>2.000000</td>\n",
       "      <td>0.040000</td>\n",
       "      <td>14.016000</td>\n",
       "      <td>90.585000</td>\n",
       "      <td>0.100000</td>\n",
       "      <td>98.076440</td>\n",
       "      <td>0.128000</td>\n",
       "      <td>1.500000e-01</td>\n",
       "      <td>0.767000</td>\n",
       "      <td>1.505270</td>\n",
       "      <td>2.178000</td>\n",
       "      <td>10.828800</td>\n",
       "    </tr>\n",
       "    <tr>\n",
       "      <th>max</th>\n",
       "      <td>2019.000000</td>\n",
       "      <td>12.000000</td>\n",
       "      <td>9.999984e+09</td>\n",
       "      <td>116.000000</td>\n",
       "      <td>75.000000</td>\n",
       "      <td>40.330000</td>\n",
       "      <td>9.000000</td>\n",
       "      <td>0.050000</td>\n",
       "      <td>299.827200</td>\n",
       "      <td>527.668000</td>\n",
       "      <td>0.120000</td>\n",
       "      <td>559.328080</td>\n",
       "      <td>0.150000</td>\n",
       "      <td>1.500000e-01</td>\n",
       "      <td>0.799000</td>\n",
       "      <td>26.234880</td>\n",
       "      <td>46.848000</td>\n",
       "      <td>239.237120</td>\n",
       "    </tr>\n",
       "  </tbody>\n",
       "</table>\n",
       "</div>"
      ],
      "text/plain": [
       "               Year         Month  Mobile Number  Loyalty Card Points  \\\n",
       "count  50447.000000  50447.000000   5.044700e+04         50447.000000   \n",
       "mean    2017.667968      6.476678   9.893557e+09            18.364263   \n",
       "std        1.111588      3.454349   7.636461e+07            16.161139   \n",
       "min     2016.000000      1.000000   7.919903e+09             0.000000   \n",
       "25%     2017.000000      3.000000   9.839283e+09             6.000000   \n",
       "50%     2018.000000      7.000000   9.897050e+09            14.000000   \n",
       "75%     2019.000000     10.000000   9.950153e+09            26.000000   \n",
       "max     2019.000000     12.000000   9.999984e+09           116.000000   \n",
       "\n",
       "                Age         Price           QTY          DISC        Amount  \\\n",
       "count  50447.000000  50447.000000  50447.000000  50447.000000  50447.000000   \n",
       "mean      35.801772      7.424184      1.548179      0.029938     11.167962   \n",
       "std       14.020367      4.753588      0.648461      0.014230      9.227162   \n",
       "min       15.000000      0.840000      1.000000      0.010000      0.798000   \n",
       "25%       23.000000      4.280000      1.000000      0.020000      5.213600   \n",
       "50%       35.000000      5.980000      2.000000      0.030000      8.632800   \n",
       "75%       47.000000      9.470000      2.000000      0.040000     14.016000   \n",
       "max       75.000000     40.330000      9.000000      0.050000    299.827200   \n",
       "\n",
       "       Net Bill Amount           GST  Gross Bill Amount  % Profit Margin  \\\n",
       "count     50447.000000  50447.000000       50447.000000     50447.000000   \n",
       "mean         66.695212      0.085553          72.378916         0.105550   \n",
       "std          45.269851      0.023568          49.093636         0.029403   \n",
       "min           0.978500      0.060000           1.037210         0.051000   \n",
       "25%          35.328000      0.070000          38.615940         0.083000   \n",
       "50%          58.586500      0.070000          63.909120         0.109000   \n",
       "75%          90.585000      0.100000          98.076440         0.128000   \n",
       "max         527.668000      0.120000         559.328080         0.150000   \n",
       "\n",
       "       % Operating Cost  % Product Cost  Profit Margin  Operating Cost  \\\n",
       "count      5.044700e+04    50447.000000   50447.000000    50447.000000   \n",
       "mean       1.500000e-01        0.744450       1.201682        1.726851   \n",
       "std        1.321178e-13        0.029403       1.063545        1.426844   \n",
       "min        1.500000e-01        0.700000       0.067840        0.126000   \n",
       "25%        1.500000e-01        0.722000       0.545600        0.805500   \n",
       "50%        1.500000e-01        0.741000       0.928200        1.329000   \n",
       "75%        1.500000e-01        0.767000       1.505270        2.178000   \n",
       "max        1.500000e-01        0.799000      26.234880       46.848000   \n",
       "\n",
       "       Product Cost  \n",
       "count  50447.000000  \n",
       "mean       8.583809  \n",
       "std        7.134957  \n",
       "min        0.609840  \n",
       "25%        4.082890  \n",
       "50%        6.648660  \n",
       "75%       10.828800  \n",
       "max      239.237120  "
      ]
     },
     "execution_count": 12,
     "metadata": {},
     "output_type": "execute_result"
    }
   ],
   "source": [
    "df_grocery.describe()"
   ]
  },
  {
   "cell_type": "markdown",
   "id": "e013163b",
   "metadata": {},
   "source": [
    "2. Перевіримо, чи є в цьому наборі даних пропущені значення."
   ]
  },
  {
   "cell_type": "code",
   "execution_count": 13,
   "id": "4d1cbffd",
   "metadata": {
    "ExecuteTime": {
     "end_time": "2023-09-30T10:04:26.506889Z",
     "start_time": "2023-09-30T10:04:26.408760Z"
    }
   },
   "outputs": [
    {
     "data": {
      "text/plain": [
       "Receipt Number         0\n",
       "Date                   0\n",
       "Year                   0\n",
       "Month                  0\n",
       "Time                   0\n",
       "Mobile Number          0\n",
       "Membership ID          0\n",
       "Loyalty Card Points    0\n",
       "Age                    0\n",
       "Gender                 0\n",
       "City                   0\n",
       "Country                0\n",
       "Category               0\n",
       "Sub_Category           0\n",
       "Items                  0\n",
       "Brand                  0\n",
       "Description            0\n",
       "Price                  0\n",
       "QTY                    0\n",
       "DISC                   0\n",
       "Amount                 0\n",
       "Net Bill Amount        0\n",
       "GST                    0\n",
       "Gross Bill Amount      0\n",
       "Payment Mode           0\n",
       "Bank Name              0\n",
       "% Profit Margin        0\n",
       "% Operating Cost       0\n",
       "% Product Cost         0\n",
       "Profit Margin          0\n",
       "Operating Cost         0\n",
       "Product Cost           0\n",
       "dtype: int64"
      ]
     },
     "execution_count": 13,
     "metadata": {},
     "output_type": "execute_result"
    }
   ],
   "source": [
    "df_grocery.isna().sum()"
   ]
  },
  {
   "cell_type": "markdown",
   "id": "4b06b81e",
   "metadata": {},
   "source": [
    "Бачимо, що пропущених значень немає :) "
   ]
  },
  {
   "cell_type": "markdown",
   "id": "29b5fde8",
   "metadata": {},
   "source": [
    "3. Побудуємо зведену таблицю кількості покупок за різним типом оплат. Будуємо діаграму для візуального сприйняття даних."
   ]
  },
  {
   "cell_type": "code",
   "execution_count": 15,
   "id": "f7e274a6",
   "metadata": {
    "ExecuteTime": {
     "end_time": "2023-09-30T10:04:49.433377Z",
     "start_time": "2023-09-30T10:04:49.416275Z"
    }
   },
   "outputs": [],
   "source": [
    "payment_mode_counts = df_grocery['Payment Mode'].value_counts().reset_index()\n",
    "payment_mode_counts.columns = ['Payment Mode', 'Count']"
   ]
  },
  {
   "cell_type": "code",
   "execution_count": 16,
   "id": "c7414539",
   "metadata": {
    "ExecuteTime": {
     "end_time": "2023-09-30T10:04:52.711320Z",
     "start_time": "2023-09-30T10:04:52.701693Z"
    }
   },
   "outputs": [
    {
     "name": "stdout",
     "output_type": "stream",
     "text": [
      "  Payment Mode  Count\n",
      "0         Card  17149\n",
      "1       Wallet  16867\n",
      "2         Cash  16431\n"
     ]
    }
   ],
   "source": [
    "print(payment_mode_counts)"
   ]
  },
  {
   "cell_type": "code",
   "execution_count": 67,
   "id": "458bbbec",
   "metadata": {
    "ExecuteTime": {
     "end_time": "2023-09-30T08:17:50.926789Z",
     "start_time": "2023-09-30T08:17:50.815845Z"
    }
   },
   "outputs": [
    {
     "data": {
      "image/png": "[encoded data removed]",
      "text/plain": [
       "<Figure size 800x600 with 1 Axes>"
      ]
     },
     "metadata": {},
     "output_type": "display_data"
    }
   ],
   "source": [
    "plt.figure(figsize=(8, 6))\n",
    "plt.bar(payment_mode_counts['Payment Mode'], payment_mode_counts['Count'])\n",
    "plt.xlabel('Тип оплати')\n",
    "plt.ylabel('Кількість покупок')\n",
    "plt.title('Розподіл кількості покупок за типом оплати')\n",
    "plt.xticks(rotation=45)\n",
    "plt.show()"
   ]
  },
  {
   "cell_type": "markdown",
   "id": "3af1aedf",
   "metadata": {},
   "source": [
    "Висновок: Тут бачимо, що покупки розподіляються майже порівну на всі три види оплат."
   ]
  },
  {
   "cell_type": "markdown",
   "id": "16b87fdc",
   "metadata": {
    "ExecuteTime": {
     "end_time": "2023-09-30T06:30:42.900317Z",
     "start_time": "2023-09-30T06:30:42.890500Z"
    }
   },
   "source": [
    "4. Будую таблицю залежності кількості покупок від гендеру. Роблю діаграму для кращогосприйняття."
   ]
  },
  {
   "cell_type": "code",
   "execution_count": 18,
   "id": "ba46e5b1",
   "metadata": {
    "ExecuteTime": {
     "end_time": "2023-09-30T10:05:04.295960Z",
     "start_time": "2023-09-30T10:05:04.271624Z"
    }
   },
   "outputs": [
    {
     "name": "stdout",
     "output_type": "stream",
     "text": [
      "   Gender  Purchase Count\n",
      "0  Female           41822\n",
      "1    Male            8625\n"
     ]
    }
   ],
   "source": [
    "gender_purchase_counts = df_grocery.groupby('Gender')['Receipt Number'].count().reset_index()\n",
    "gender_purchase_counts.columns = ['Gender', 'Purchase Count']\n",
    "print(gender_purchase_counts)"
   ]
  },
  {
   "cell_type": "code",
   "execution_count": 20,
   "id": "17b4804a",
   "metadata": {
    "ExecuteTime": {
     "end_time": "2023-09-30T10:06:16.611448Z",
     "start_time": "2023-09-30T10:06:15.659727Z"
    }
   },
   "outputs": [],
   "source": [
    "import matplotlib.pyplot as plt\n",
    "import seaborn as sns"
   ]
  },
  {
   "cell_type": "code",
   "execution_count": 23,
   "id": "3adde315",
   "metadata": {
    "ExecuteTime": {
     "end_time": "2023-09-30T10:06:52.851296Z",
     "start_time": "2023-09-30T10:06:52.727969Z"
    }
   },
   "outputs": [
    {
     "data": {
      "text/plain": [
       "Text(0.5, 1.0, 'Вартість покупок за статтю')"
      ]
     },
     "execution_count": 23,
     "metadata": {},
     "output_type": "execute_result"
    },
    {
     "data": {
      "image/png": "[encoded data removed]",
      "text/plain": [
       "<Figure size 640x480 with 1 Axes>"
      ]
     },
     "metadata": {},
     "output_type": "display_data"
    }
   ],
   "source": [
    "plt.subplot(2, 3, 3)\n",
    "sns.boxplot(df_grocery, x='Gender', y='Gross Bill Amount')\n",
    "plt.title('Вартість покупок за статтю')"
   ]
  },
  {
   "cell_type": "markdown",
   "id": "a1e06739",
   "metadata": {
    "ExecuteTime": {
     "end_time": "2023-09-30T06:33:06.663106Z",
     "start_time": "2023-09-30T06:33:06.652932Z"
    }
   },
   "source": [
    "Висновок: Жінки роблять покупки у 4,5 рази частіше, ніж чоловіки. Тобто маркетингова стратегія може бути направлена на розвиток продажів товарів для чоловіків."
   ]
  },
  {
   "cell_type": "markdown",
   "id": "afd9c7fa",
   "metadata": {},
   "source": [
    "5. Визначимо середній чек"
   ]
  },
  {
   "cell_type": "code",
   "execution_count": 25,
   "id": "1cedb938",
   "metadata": {
    "ExecuteTime": {
     "end_time": "2023-09-30T10:07:03.668812Z",
     "start_time": "2023-09-30T10:07:03.659946Z"
    }
   },
   "outputs": [
    {
     "name": "stdout",
     "output_type": "stream",
     "text": [
      "Середній чек за покупку: 72.38\n"
     ]
    }
   ],
   "source": [
    "average_bill_amount = df_grocery['Gross Bill Amount'].mean()\n",
    "print(\"Середній чек за покупку: {:.2f}\".format(average_bill_amount))"
   ]
  },
  {
   "cell_type": "markdown",
   "id": "74562f41",
   "metadata": {},
   "source": [
    "6. Визначимо, чи з часом стає лояльних клієнтів більше."
   ]
  },
  {
   "cell_type": "code",
   "execution_count": 26,
   "id": "cf572eed",
   "metadata": {
    "ExecuteTime": {
     "end_time": "2023-09-30T10:07:11.005054Z",
     "start_time": "2023-09-30T10:07:10.975374Z"
    }
   },
   "outputs": [
    {
     "name": "stdout",
     "output_type": "stream",
     "text": [
      "   Year  Loyalty Clients Count\n",
      "0  2016                   1466\n",
      "1  2017                   1633\n",
      "2  2018                   1738\n",
      "3  2019                   1816\n"
     ]
    }
   ],
   "source": [
    "loyalty_clients_by_year = df_grocery.groupby('Year')['Membership ID'].nunique().reset_index()\n",
    "loyalty_clients_by_year.columns = ['Year', 'Loyalty Clients Count']\n",
    "print(loyalty_clients_by_year)"
   ]
  },
  {
   "cell_type": "markdown",
   "id": "638ad00d",
   "metadata": {},
   "source": [
    "Висновок: так, з роками лояльних клієнтів стає більше, але треба подумати над стратегією швидшого зростання."
   ]
  },
  {
   "cell_type": "markdown",
   "id": "9f5c5387",
   "metadata": {
    "ExecuteTime": {
     "end_time": "2023-09-30T07:02:10.564240Z",
     "start_time": "2023-09-30T07:02:10.550117Z"
    }
   },
   "source": [
    "7. Які товари є найпопулярнішими?"
   ]
  },
  {
   "cell_type": "code",
   "execution_count": 27,
   "id": "6032ad40",
   "metadata": {
    "ExecuteTime": {
     "end_time": "2023-09-30T10:07:16.746308Z",
     "start_time": "2023-09-30T10:07:16.726925Z"
    }
   },
   "outputs": [
    {
     "name": "stdout",
     "output_type": "stream",
     "text": [
      "                                          Item  Sales Count\n",
      "0              Sainsbury salted tortilla chips          849\n",
      "1                             Ashai Lager Beer          813\n",
      "2                           Lamb pate dog food          653\n",
      "3                    Anchor salted pure butter          647\n",
      "4          Nutro Beef with vegetables dog food          646\n",
      "5                   Alpo Chicken pate dog food          643\n",
      "6                               Fresh Soyamilk          628\n",
      "7  PEDIGREE Adult complete nuritition dog food          626\n",
      "8                     Original wholemeal bread          610\n",
      "9                 3 in 1 cereal drink original          518\n"
     ]
    }
   ],
   "source": [
    "popular_items = df_grocery['Items'].value_counts().reset_index()\n",
    "popular_items.columns = ['Item', 'Sales Count']\n",
    "print(popular_items.head(10))"
   ]
  },
  {
   "cell_type": "markdown",
   "id": "23889b9d",
   "metadata": {},
   "source": [
    "8.Зробимо візуалізацію"
   ]
  },
  {
   "cell_type": "code",
   "execution_count": 28,
   "id": "08f4e402",
   "metadata": {
    "ExecuteTime": {
     "end_time": "2023-09-30T10:07:34.671079Z",
     "start_time": "2023-09-30T10:07:34.508846Z"
    }
   },
   "outputs": [
    {
     "data": {
      "image/png": "[encoded data removed]",
      "text/plain": [
       "<Figure size 1200x600 with 1 Axes>"
      ]
     },
     "metadata": {},
     "output_type": "display_data"
    }
   ],
   "source": [
    "top_items = popular_items.head(10)\n",
    "\n",
    "plt.figure(figsize=(12, 6))\n",
    "sns.barplot(x='Sales Count', y='Item', data=top_items, palette='viridis')\n",
    "plt.title('Найпопулярніші товари на ринку')\n",
    "plt.xlabel('Кількість продаж')\n",
    "plt.ylabel('Товар')\n",
    "plt.show()"
   ]
  },
  {
   "cell_type": "markdown",
   "id": "1365f484",
   "metadata": {},
   "source": [
    "9. Створюю зведену таблицю аналізу прибутку та витрат в залежності від способу оплати"
   ]
  },
  {
   "cell_type": "code",
   "execution_count": 30,
   "id": "3d40d272",
   "metadata": {
    "ExecuteTime": {
     "end_time": "2023-09-30T10:07:45.903801Z",
     "start_time": "2023-09-30T10:07:45.876061Z"
    }
   },
   "outputs": [
    {
     "name": "stdout",
     "output_type": "stream",
     "text": [
      "              Operating Cost  Product Cost  Profit Margin\n",
      "Payment Mode                                             \n",
      "Card                1.754870      8.718334       1.225931\n",
      "Cash                1.693296      8.422186       1.173158\n",
      "Wallet              1.731051      8.604478       1.204813\n"
     ]
    }
   ],
   "source": [
    "pivot_table = df_grocery.pivot_table(index='Payment Mode', values=['Profit Margin', 'Operating Cost', 'Product Cost'], aggfunc='mean')\n",
    "print(pivot_table)"
   ]
  },
  {
   "cell_type": "markdown",
   "id": "7425d2ab",
   "metadata": {},
   "source": [
    "Висновок: \n",
    "\n",
    "Видно, що розподіл витрат (Operating Cost і Product Cost) варіюється в залежності від способу оплати. Наприклад, для оплати \"Cash\" витрати в середньому нижчі, ніж для \"Card\". Це може бути пов'язано з комісіями за оплату кредитною карткою.\n",
    "\n",
    "Спосіб оплати також впливає на прибуток. З таблиці видно, що середній прибуток від оплати \"Card\" вищий, ніж від оплати \"Cash\". Це може бути пов'язано з більш високими середніми чеками або іншими факторами, що впливають на прибуток.\n",
    "\n",
    "Відсоток прибутку (Profit Margin) також різниться за способами оплати. Для різних методів оплати можуть встановлюватися різні маржі прибутку. Це може бути важливою інформацією для прийняття рішень щодо стратегії ціноутворення.\n",
    "\n",
    "На основі цього аналізу бізнес може розглядати такі дії:\n",
    "\n",
    "Розглянути оптимізацію витрат для способу оплати \"Card\", щоб збільшити прибуток.\n",
    "Акції або пропозиції, спрямовані на підвищення використання карток для оплати.\n",
    "Вивчення банків, які найбільше використовуються клієнтами, та можливість співпраці з цими банками для покращення умов оплати."
   ]
  },
  {
   "cell_type": "markdown",
   "id": "1040279f",
   "metadata": {},
   "source": [
    "10. Подовимось, які банки найчастіше використовуться при оплаті. Зробимо візуалізацію."
   ]
  },
  {
   "cell_type": "code",
   "execution_count": 31,
   "id": "f2b9a161",
   "metadata": {
    "ExecuteTime": {
     "end_time": "2023-09-30T10:07:52.912579Z",
     "start_time": "2023-09-30T10:07:52.899936Z"
    }
   },
   "outputs": [
    {
     "name": "stdout",
     "output_type": "stream",
     "text": [
      "BDO Unibank                 11172\n",
      "Philippine Veterans Bank    10154\n",
      "Philippine National bank    10118\n",
      "Enterprise Bank              9628\n",
      "ING Bank                     9056\n",
      "Cash                           84\n",
      "Deutsche Bank                  53\n",
      "ALLIANCE Bank                  50\n",
      "Agrobank                       47\n",
      "Bank Central Asia              21\n",
      "Affin Bank                     20\n",
      "Philtrust Bank                 20\n",
      "Bank Rakhyat                   15\n",
      "Robinsons Bank                  9\n",
      "Name: Bank Name, dtype: int64\n"
     ]
    }
   ],
   "source": [
    "bank_counts = df_grocery['Bank Name'].value_counts()\n",
    "print(bank_counts)"
   ]
  },
  {
   "cell_type": "code",
   "execution_count": 32,
   "id": "145334e4",
   "metadata": {
    "ExecuteTime": {
     "end_time": "2023-09-30T10:08:02.128951Z",
     "start_time": "2023-09-30T10:08:01.992884Z"
    }
   },
   "outputs": [
    {
     "data": {
      "image/png": "[encoded data removed]",
      "text/plain": [
       "<Figure size 800x800 with 1 Axes>"
      ]
     },
     "metadata": {},
     "output_type": "display_data"
    }
   ],
   "source": [
    "plt.figure(figsize=(8, 8))\n",
    "plt.pie(bank_counts, labels=bank_counts.index, autopct='%1.1f%%', startangle=140)\n",
    "plt.axis('equal')  # Забезпечення рівного вигляду кругової діаграми\n",
    "plt.title('Розподіл оплат за банками')\n",
    "plt.show()"
   ]
  },
  {
   "cell_type": "markdown",
   "id": "f961e9f6",
   "metadata": {},
   "source": [
    "11. Як змінюється кількість бонусних балів з роками?"
   ]
  },
  {
   "cell_type": "code",
   "execution_count": 34,
   "id": "ff65092d",
   "metadata": {
    "ExecuteTime": {
     "end_time": "2023-09-30T10:08:12.263616Z",
     "start_time": "2023-09-30T10:08:12.251881Z"
    }
   },
   "outputs": [
    {
     "name": "stdout",
     "output_type": "stream",
     "text": [
      "Year\n",
      "2016     70940\n",
      "2017    152815\n",
      "2018    263094\n",
      "2019    439573\n",
      "Name: Loyalty Card Points, dtype: int64\n"
     ]
    }
   ],
   "source": [
    "bonus_points_by_year = df_grocery.groupby('Year')['Loyalty Card Points'].sum()\n",
    "print(bonus_points_by_year)"
   ]
  },
  {
   "cell_type": "code",
   "execution_count": 57,
   "id": "e407c60e",
   "metadata": {
    "ExecuteTime": {
     "end_time": "2023-09-30T08:04:43.526553Z",
     "start_time": "2023-09-30T08:04:43.402083Z"
    }
   },
   "outputs": [
    {
     "data": {
      "image/png": "[encoded data removed]",
      "text/plain": [
       "<Figure size 1000x600 with 1 Axes>"
      ]
     },
     "metadata": {},
     "output_type": "display_data"
    }
   ],
   "source": [
    "plt.figure(figsize=(10, 6))\n",
    "plt.plot(bonus_points_by_year.index, bonus_points_by_year.values, marker='o')\n",
    "plt.title('Зміна кількості бонусних балів з роками')\n",
    "plt.xlabel('Рік')\n",
    "plt.ylabel('Кількість бонусних балів')\n",
    "plt.grid(True)\n",
    "plt.show()"
   ]
  },
  {
   "cell_type": "markdown",
   "id": "a0156669",
   "metadata": {},
   "source": [
    "Висновки:\n",
    "\n",
    "1. Кількість бонусних балів зростала протягом років, але відбувалися коливання в різні періоди.\n",
    "\n",
    "2. Визначені пікові роки, коли було найбільше накопичено бонусних балів. Можна провести аналіз, які події або акції сприяли цим пікам.\n",
    "\n",
    "3. Аналіз зміни кількості бонусних балів може допомогти у плануванні майбутніх акцій та стратегій лояльності для залучення та утримання клієнтів."
   ]
  },
  {
   "cell_type": "markdown",
   "id": "5f0325cd",
   "metadata": {},
   "source": [
    "12. Зробитит аналіз як відрізняються покупці різного віку за своїми витратами та побудувати графік"
   ]
  },
  {
   "cell_type": "code",
   "execution_count": 36,
   "id": "a6a690a6",
   "metadata": {
    "ExecuteTime": {
     "end_time": "2023-09-30T10:08:29.580026Z",
     "start_time": "2023-09-30T10:08:29.169773Z"
    }
   },
   "outputs": [
    {
     "data": {
      "image/png": "[encoded data removed]",
      "text/plain": [
       "<Figure size 1200x600 with 1 Axes>"
      ]
     },
     "metadata": {},
     "output_type": "display_data"
    }
   ],
   "source": [
    "plt.figure(figsize=(12, 6))\n",
    "sns.boxplot(x='Age', y='Gross Bill Amount', data=df_grocery)\n",
    "plt.title('Розподіл витрат за віком')\n",
    "plt.xlabel('Вік покупців')\n",
    "plt.ylabel('Сума витрат')\n",
    "plt.xticks(rotation=90)\n",
    "plt.show()"
   ]
  },
  {
   "cell_type": "markdown",
   "id": "1b378d88",
   "metadata": {},
   "source": [
    "Висновки:\n",
    "\n",
    "1. Здається, що найбільший обсяг витрат припадає на покупців середнього віку, від 30 до 50 років. Це пов'язано з тим, що ця група покупців має більше фінансових можливостей для витрат.\n",
    "\n",
    "2. Графік також показує кілька викидів, особливо у групі покупців старше 80 років. Це може вказувати на несподівані аномалії або надзвичайно великі витрати деяких покупців у цій групі.\n",
    "\n",
    "3. Покупці віком до 30 років схильні до менших витрат у порівнянні з іншими групами. Це може бути пов'язано з обмеженим бюджетом молодих покупців або їхніми покупками на більш низький обсяг.\n",
    "\n",
    "4. Для подальшого аналізу можна розглянути причини розрізненості витрат між різними віковими групами. Наприклад, можна вивчити, які товари або послуги найбільше популярні серед різних вікових категорій та вплив факторів, таких як знижки або акції, на витрати різних груп покупців."
   ]
  },
  {
   "cell_type": "code",
   "execution_count": null,
   "id": "e8993016",
   "metadata": {},
   "outputs": [],
   "source": []
  },
  {
   "cell_type": "code",
   "execution_count": null,
   "id": "34bc85ea",
   "metadata": {},
   "outputs": [],
   "source": []
  }
 ],
 "metadata": {
  "kernelspec": {
   "display_name": "Python 3 (ipykernel)",
   "language": "python",
   "name": "python3"
  },
  "language_info": {
   "codemirror_mode": {
    "name": "ipython",
    "version": 3
   },
   "file_extension": ".py",
   "mimetype": "text/x-python",
   "name": "python",
   "nbconvert_exporter": "python",
   "pygments_lexer": "ipython3",
   "version": "3.10.9"
  },
  "toc": {
   "base_numbering": 1,
   "nav_menu": {},
   "number_sections": true,
   "sideBar": true,
   "skip_h1_title": false,
   "title_cell": "Table of Contents",
   "title_sidebar": "Contents",
   "toc_cell": false,
   "toc_position": {},
   "toc_section_display": true,
   "toc_window_display": false
  },
  "varInspector": {
   "cols": {
    "lenName": 16,
    "lenType": 16,
    "lenVar": 40
   },
   "kernels_config": {
    "python": {
     "delete_cmd_postfix": "",
     "delete_cmd_prefix": "del ",
     "library": "var_list.py",
     "varRefreshCmd": "print(var_dic_list())"
    },
    "r": {
     "delete_cmd_postfix": ") ",
     "delete_cmd_prefix": "rm(",
     "library": "var_list.r",
     "varRefreshCmd": "cat(var_dic_list()) "
    }
   },
   "types_to_exclude": [
    "module",
    "function",
    "builtin_function_or_method",
    "instance",
    "_Feature"
   ],
   "window_display": false
  }
 },
 "nbformat": 4,
 "nbformat_minor": 5
}
